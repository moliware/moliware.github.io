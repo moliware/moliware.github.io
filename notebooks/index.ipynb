{
 "metadata": {
  "name": ""
 },
 "nbformat": 3,
 "nbformat_minor": 0,
 "worksheets": [
  {
   "cells": [
    {
     "cell_type": "markdown",
     "metadata": {},
     "source": [
      "<link href=\"//netdna.bootstrapcdn.com/font-awesome/4.1.0/css/font-awesome.min.css\" rel=\"stylesheet\">\n",
      "<style type=\"text/css\">\n",
      "a.contact, a:link.contact, a:visited.contact, a:active.contact {text-decoration: none; color: #666666;}\n",
      "a:hover.contact{text-decoration: none; color: black;}\n",
      "</style>\n",
      "\n",
      "# Miguel Olivares\n",
      "\n",
      "Software engineer based in Valencia (Spain) and currently working at XING AG.\n",
      "\n",
      "\n",
      "### My notebooks\n",
      "\n",
      "These are some useful notebooks about programming:\n",
      "\n",
      "* [Non-english POS-tagger with nltk](./non-english_pos-tagger_with_nltk.html) (August 2013)\n",
      "\n",
      "### Contact\n",
      "\n",
      "<a href=\"mailto:miguel@moliware.com\" class=\"contact\"><i class=\"fa fa-envelope fa-2x\"></i></a>\n",
      "<a href=\"https://twitter.com/moliware\" class=\"contact\"><i class=\"fa fa-twitter fa-2x\"></i></a>\n",
      "<a href=\"https://github.com/moliware\" class=\"contact\"><i class=\"fa fa-github fa-2x\"></i></a>\n",
      "<a href=\"http://stackoverflow.com/users/340298/moliware\" class=\"contact\"><i class=\"fa fa-stack-overflow fa-2x\"></i></a>\n",
      "<a href=\"https://www.xing.com/profile/Miguel_Olivares4\" class=\"contact\"><i class=\"fa fa-xing fa-2x\"></i></a>\n"
     ]
    }
   ],
   "metadata": {}
  }
 ]
}