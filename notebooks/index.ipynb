{
 "metadata": {
  "name": ""
 },
 "nbformat": 3,
 "nbformat_minor": 0,
 "worksheets": [
  {
   "cells": [
    {
     "cell_type": "markdown",
     "metadata": {},
     "source": [
      "<link href=\"//netdna.bootstrapcdn.com/font-awesome/4.1.0/css/font-awesome.min.css\" rel=\"stylesheet\">\n",
      "<style type=\"text/css\">\n",
      "a, a:link, a:hover, a:visited, a:active {text-decoration: none; color: black;}\n",
      "</style>\n",
      "\n",
      "# Miguel Olivares\n",
      "\n",
      "Software engineer based in Valencia (Spain) and currently working at XING AG.\n",
      "\n",
      "\n",
      "### My notebooks\n",
      "\n",
      "These are some useful notebooks about programming:\n",
      "\n",
      "* [Non-english POS-tagger with nltk](./non-english_pos-tagger_with_nltk.html) (August 2013)\n",
      "\n",
      "### Contact\n",
      "\n",
      "[<i class=\"fa fa-envelope fa-2x\"></i>](mailto:miguel@moliware.com)\n",
      "[<i class=\"fa fa-twitter fa-2x\"></i>](https://twitter.com/moliware)\n",
      "[<i class=\"fa fa-github fa-2x\"></i>](https://github.com/moliware)\n",
      "[<i class=\"fa fa-stack-overflow fa-2x\"></i>](http://stackoverflow.com/users/340298/moliware)\n",
      "[<i class=\"fa fa-xing fa-2x\"></i>](https://www.xing.com/profile/Miguel_Olivares4)\n",
      "\n"
     ]
    }
   ],
   "metadata": {}
  }
 ]
}