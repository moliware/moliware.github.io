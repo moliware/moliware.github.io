{
 "metadata": {
  "name": ""
 },
 "nbformat": 3,
 "nbformat_minor": 0,
 "worksheets": [
  {
   "cells": [
    {
     "cell_type": "markdown",
     "metadata": {},
     "source": [
      "# My notebooks\n",
      "\n",
      "These are some useful notebooks about python programming:\n",
      "\n",
      "* [Non-english POS-tagger with nltk](./non-english_pos-tagger_with_nltk.html) (August 2013)\n",
      "\n",
      "\n"
     ]
    }
   ],
   "metadata": {}
  }
 ]
}